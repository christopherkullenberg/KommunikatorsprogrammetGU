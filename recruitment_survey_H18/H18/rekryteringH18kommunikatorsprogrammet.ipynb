{
 "cells": [
  {
   "cell_type": "code",
   "execution_count": 1,
   "metadata": {},
   "outputs": [],
   "source": [
    "import pandas as pd\n",
    "from collections import Counter"
   ]
  },
  {
   "cell_type": "code",
   "execution_count": 2,
   "metadata": {},
   "outputs": [
    {
     "name": "stdout",
     "output_type": "stream",
     "text": [
      "N = 19\n"
     ]
    }
   ],
   "source": [
    "df = pd.read_csv('rekryteringH18kommunikatorsprogrammet.csv')\n",
    "print(\"N =\", str(len(df)))"
   ]
  },
  {
   "cell_type": "code",
   "execution_count": 3,
   "metadata": {},
   "outputs": [
    {
     "data": {
      "text/html": [
       "<div>\n",
       "<style scoped>\n",
       "    .dataframe tbody tr th:only-of-type {\n",
       "        vertical-align: middle;\n",
       "    }\n",
       "\n",
       "    .dataframe tbody tr th {\n",
       "        vertical-align: top;\n",
       "    }\n",
       "\n",
       "    .dataframe thead th {\n",
       "        text-align: right;\n",
       "    }\n",
       "</style>\n",
       "<table border=\"1\" class=\"dataframe\">\n",
       "  <thead>\n",
       "    <tr style=\"text-align: right;\">\n",
       "      <th></th>\n",
       "      <th>Kurs</th>\n",
       "      <th>Q1</th>\n",
       "      <th>Q2</th>\n",
       "      <th>Q3</th>\n",
       "    </tr>\n",
       "  </thead>\n",
       "  <tbody>\n",
       "    <tr>\n",
       "      <th>0</th>\n",
       "      <td>Kommunikatörsprogrammet</td>\n",
       "      <td>H</td>\n",
       "      <td>Globala studier, Utvecklingsstudier</td>\n",
       "      <td>Bra komplement till kandidat, vill jobba inom ...</td>\n",
       "    </tr>\n",
       "    <tr>\n",
       "      <th>1</th>\n",
       "      <td>Kommunikatörsprogrammet</td>\n",
       "      <td>C</td>\n",
       "      <td>ja</td>\n",
       "      <td>Matchade jobberfarenhet, intresse för kommunik...</td>\n",
       "    </tr>\n",
       "    <tr>\n",
       "      <th>2</th>\n",
       "      <td>Kommunikatörsprogrammet</td>\n",
       "      <td>H</td>\n",
       "      <td>Socionomprogrammet</td>\n",
       "      <td>Möjlighet att lyfta sociala frågor men inte di...</td>\n",
       "    </tr>\n",
       "    <tr>\n",
       "      <th>3</th>\n",
       "      <td>Kommunikatörsprogrammet</td>\n",
       "      <td>I</td>\n",
       "      <td>Grundlärare F-3, Högskolan Borås</td>\n",
       "      <td>Letade efter kommunikatörsutbildningar och utb...</td>\n",
       "    </tr>\n",
       "    <tr>\n",
       "      <th>4</th>\n",
       "      <td>Kommunikatörsprogrammet</td>\n",
       "      <td>F, H</td>\n",
       "      <td>Engelska, Socialantropologi, Kulturvetenskap, ...</td>\n",
       "      <td>Kändes som en bra ventil för mina tidigare stu...</td>\n",
       "    </tr>\n",
       "  </tbody>\n",
       "</table>\n",
       "</div>"
      ],
      "text/plain": [
       "                      Kurs    Q1  \\\n",
       "0  Kommunikatörsprogrammet     H   \n",
       "1  Kommunikatörsprogrammet     C   \n",
       "2  Kommunikatörsprogrammet     H   \n",
       "3  Kommunikatörsprogrammet     I   \n",
       "4  Kommunikatörsprogrammet  F, H   \n",
       "\n",
       "                                                  Q2  \\\n",
       "0                Globala studier, Utvecklingsstudier   \n",
       "1                                                 ja   \n",
       "2                                 Socionomprogrammet   \n",
       "3                   Grundlärare F-3, Högskolan Borås   \n",
       "4  Engelska, Socialantropologi, Kulturvetenskap, ...   \n",
       "\n",
       "                                                  Q3  \n",
       "0  Bra komplement till kandidat, vill jobba inom ...  \n",
       "1  Matchade jobberfarenhet, intresse för kommunik...  \n",
       "2  Möjlighet att lyfta sociala frågor men inte di...  \n",
       "3  Letade efter kommunikatörsutbildningar och utb...  \n",
       "4  Kändes som en bra ventil för mina tidigare stu...  "
      ]
     },
     "execution_count": 3,
     "metadata": {},
     "output_type": "execute_result"
    }
   ],
   "source": [
    "df.head()"
   ]
  },
  {
   "cell_type": "markdown",
   "metadata": {},
   "source": [
    "## Code book\n",
    "    A - Jag var på Göteborgs universitets besöksdag\n",
    "    B - Jag var på institutionens Öppet hus i mars och hörde om utbildningen då\n",
    "    C - Jag googlade\n",
    "    D - Jag hittade information om utbildningen på Facebook\n",
    "    E - Jag såg en annons om utbildningen\n",
    "    F - Jag hörde om utbildningen av en kompis\n",
    "    G - Jag hörde om utbildningen av ett syskon eller annan släkting\n",
    "    H - Jag sökte upp information på antagning.se\n",
    "    I - Jag sökte upp information på Göteborgs universitets hemsida\n",
    "    J - På något annat sätt"
   ]
  },
  {
   "cell_type": "code",
   "execution_count": 30,
   "metadata": {},
   "outputs": [],
   "source": [
    "codebook = {\"A\": \"A. Jag var på Göteborgs universitets besöksdag\",\n",
    "            \"B\": \"B. Jag var på institutionens Öppet hus i mars och hörde om utbildningen då\",\n",
    "            \"C\": \"C. Jag googlade\",\n",
    "            \"D\": \"D. Jag hittade information om utbildningen på Facebook\",\n",
    "            \"E\": \"E. Jag såg en annons om utbildningen\",\n",
    "            \"F\": \"F. Jag hörde om utbildningen av en kompis\",\n",
    "            \"G\": \"G. Jag hörde om utbildningen av ett syskon eller annan släkting\",\n",
    "            \"H\": \"H. Jag sökte upp information på antagning.se\",\n",
    "            \"I\": \"I. Jag sökte upp information på Göteborgs universitets hemsida\",\n",
    "            \"J\": \"J. På något annat sätt (totalsiffra)\"\n",
    "           }"
   ]
  },
  {
   "cell_type": "code",
   "execution_count": 31,
   "metadata": {},
   "outputs": [
    {
     "name": "stdout",
     "output_type": "stream",
     "text": [
      "Hur hittade du till kursen/programmet?\n",
      "\n",
      "I. Jag sökte upp information på Göteborgs universitets hemsida  -  6\n",
      "C. Jag googlade  -  5\n",
      "H. Jag sökte upp information på antagning.se  -  4\n",
      "J. På något annat sätt (totalsiffra)  -  4\n",
      "F. Jag hörde om utbildningen av en kompis  -  2\n",
      "J. (fritext). Annat: Studievägledare  -  2\n",
      "J. (fritext). Annat: Humanistens information om studier på avancerad nivå  -  1\n",
      "J. (fritext). Annat: Informationsträff på Humanisten  -  1\n",
      "G. Jag hörde om utbildningen av ett syskon eller annan släkting  -  1\n"
     ]
    }
   ],
   "source": [
    "Q1results = []\n",
    "\n",
    "print(\"Hur hittade du till kursen/programmet?\\n\")\n",
    "for row in df['Q1']:\n",
    "    for f in row.split(', '):\n",
    "        if f in codebook:\n",
    "            Q1results.append(codebook[f])\n",
    "        else:\n",
    "            Q1results.append(\"J. (fritext). Annat: \" + f)\n",
    "\n",
    "for freq in Counter(Q1results).most_common():\n",
    "    print(freq[0], \" - \", freq[1])"
   ]
  },
  {
   "cell_type": "code",
   "execution_count": 5,
   "metadata": {},
   "outputs": [
    {
     "name": "stdout",
     "output_type": "stream",
     "text": [
      "Har du läst på universitet/högskola tidigare?\n",
      "\n",
      "GU  -  6\n",
      "Lund  -  3\n",
      "Nordiska språk  -  2\n",
      "ja  -  2\n",
      "Kulturvetenskap  -  2\n",
      "Kultur med inriktning mot kulturanalys  -  2\n",
      "Litteraturvetenskap  -  2\n",
      "Juridik  -  1\n",
      "Pedagogik  -  1\n",
      "Linköpings universitet  -  1\n",
      "Socialantropologi  -  1\n",
      "Grundlärare F-3  -  1\n",
      "Översättarprogrammet  -  1\n",
      "MEK (kandidatprogram)  -  1\n",
      "Mittuniversitetet  -  1\n",
      "Genusvetenskap  -  1\n",
      "ISP  -  1\n",
      "juridik  -  1\n",
      "Socionomprogrammet  -  1\n",
      "Kultur/Samhälle/Mediegestaltning  -  1\n",
      "tyska  -  1\n",
      "Svenska/Engelska  -  1\n",
      "Utvecklingsstudier  -  1\n",
      "Statsvetenskap  -  1\n",
      "Engelska  -  1\n",
      "Globala studier  -  1\n",
      "Högskolan Borås  -  1\n",
      "Folkhälsovetenskap  -  1\n",
      "Biomedicin  -  1\n"
     ]
    }
   ],
   "source": [
    "Q2results = []\n",
    "\n",
    "print(\"Har du läst på universitet/högskola tidigare?\\n\")\n",
    "for row in df['Q2']:\n",
    "    for f in row.split(', '):\n",
    "        Q2results.append(f)\n",
    "\n",
    "for freq in Counter(Q2results).most_common():\n",
    "    print(freq[0], \" - \", freq[1])"
   ]
  },
  {
   "cell_type": "code",
   "execution_count": 6,
   "metadata": {},
   "outputs": [
    {
     "name": "stdout",
     "output_type": "stream",
     "text": [
      "Vad attraherade dig med utbildningen och gjorde att du sökte?\n",
      "\n",
      "Bra komplement till kandidat\n",
      "vill jobba inom myndigheter/organisationer\n",
      "Matchade jobberfarenhet\n",
      "intresse för kommunikation\n",
      "Möjlighet att lyfta sociala frågor men inte direkt med klienterna\n",
      "få användning av kunskaper inom Adobe\n",
      "Letade efter kommunikatörsutbildningar och utbildningen verkade seriös och med bra chanser till jobb\n",
      "Kändes som en bra ventil för mina tidigare studier\n",
      "Gillar att jobba med varierande uppgifter och att vara som en mellanhand\n",
      "Är intresserad av skrivande och utformning av text\n",
      "Bra inriktning för att bygtga på de erfarenheter jag redan hade från jobb/utbildning\n",
      "Inriktningen mot offentlig förvaltning/myndighet\n",
      "arbetslivsförankringen\n",
      "att man kunde söka med allmän bakgrund\n",
      "Bredden och yrkespotentialen\n",
      "Kommunikation är relevant kompetens att ha idag\n",
      "är intresserad av arbete I offentlig förvaltning\n",
      "Kändes som en bra påbyggnad till min kandidat\n",
      "Bra att man kan välja magister eller master\n",
      "Vill bygga på min kandidat delvis föär att min kandidat inte leder till jobb (direkt)\n",
      "gillar att studiera\n",
      "Jag är intresserad av kommunikation och hur det fungerar I praktiken\n",
      "Mitt intresse av språk och textuell kommunikation\n",
      "förhoppningar att få ett arbete efter utbildningen\n",
      "Bred utbildning\n",
      "bra kombo med tidigare utbildning\n",
      "Bra utbildning\n",
      "gillar språket\n",
      "kul med högre utbildning\n",
      "Att jag kunde kombinera mina jounalistikstudier med kommunikation\n",
      "så att jag kan jobba som kommunikatör I framtiden\n",
      "inriktningen mot myndigheter och offentlig förvaltning\n",
      "chansen att specialisera mig\n",
      "bredda för intagning\n",
      "mer praktisk\n",
      "nära kopplad till framtida yrke\n",
      "relevant för mycket olika typer av jobb\n",
      "Upplägget med praktik\n",
      "att utbildningen tagits fram med regionens synpunkter\n"
     ]
    }
   ],
   "source": [
    "Q3results = []\n",
    "\n",
    "print(\"Vad attraherade dig med utbildningen och gjorde att du sökte?\\n\")\n",
    "for row in df['Q3']:\n",
    "    for f in row.split(', '):\n",
    "        Q3results.append(f)\n",
    "\n",
    "for answer in Q3results:\n",
    "    print(answer)"
   ]
  },
  {
   "cell_type": "code",
   "execution_count": null,
   "metadata": {},
   "outputs": [],
   "source": []
  },
  {
   "cell_type": "code",
   "execution_count": null,
   "metadata": {},
   "outputs": [],
   "source": []
  }
 ],
 "metadata": {
  "kernelspec": {
   "display_name": "Python 3",
   "language": "python",
   "name": "python3"
  },
  "language_info": {
   "codemirror_mode": {
    "name": "ipython",
    "version": 3
   },
   "file_extension": ".py",
   "mimetype": "text/x-python",
   "name": "python",
   "nbconvert_exporter": "python",
   "pygments_lexer": "ipython3",
   "version": "3.5.5"
  }
 },
 "nbformat": 4,
 "nbformat_minor": 2
}
